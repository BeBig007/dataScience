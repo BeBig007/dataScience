{
 "cells": [
  {
   "cell_type": "code",
   "execution_count": 28,
   "metadata": {},
   "outputs": [],
   "source": [
    "import matplotlib.pyplot as plt\n",
    "import seaborn as sns\n",
    "import numpy as np\n",
    "\n",
    "%matplotlib inline"
   ]
  },
  {
   "cell_type": "code",
   "execution_count": 29,
   "metadata": {},
   "outputs": [],
   "source": [
    "file_pred = open(\"../data/predictions.txt\", 'r')\n",
    "pred_list = file_pred.readlines()\n",
    "\n",
    "data_prediction = []\n",
    "for sub in pred_list:\n",
    "    data_prediction.append(sub.replace(\"\\n\", \"\"))\n"
   ]
  },
  {
   "cell_type": "code",
   "execution_count": 30,
   "metadata": {},
   "outputs": [],
   "source": [
    "file_truth = open(\"../data/truth.txt\", 'r')\n",
    "data_list = file_truth.readlines()\n",
    "\n",
    "data_truth = []\n",
    "for sub in data_list:\n",
    "    data_truth.append(sub.replace(\"\\n\", \"\"))\n"
   ]
  },
  {
   "cell_type": "code",
   "execution_count": 31,
   "metadata": {},
   "outputs": [],
   "source": [
    "# from sklearn import metrics\n",
    "\n",
    "# confusion_matrix = metrics.confusion_matrix(data_truth, data_prediction, labels=[\"Jedi\", \"Sith\"])\n",
    "\n",
    "# cm_display = metrics.ConfusionMatrixDisplay(confusion_matrix = confusion_matrix)\n",
    "# cm_display.plot()\n",
    "# plt.show()"
   ]
  },
  {
   "cell_type": "code",
   "execution_count": 32,
   "metadata": {},
   "outputs": [],
   "source": [
    "# print(metrics.classification_report(data_truth, data_prediction, target_names=[\"Jedi\", \"Sith\"]))"
   ]
  },
  {
   "cell_type": "code",
   "execution_count": 33,
   "metadata": {},
   "outputs": [],
   "source": [
    "data_truthj = np.asarray(list(map(lambda x:0 if x == \"Jedi\" else 1, data_truth)))\n",
    "data_predictionj = np.asarray(list(map(lambda x:0 if x == \"Jedi\" else 1, data_prediction)))\n",
    "\n",
    "TP = np.sum(np.logical_and(data_predictionj == 0, data_truthj == 0))\n",
    "TN = np.sum(np.logical_and(data_predictionj == 1, data_truthj == 1))\n",
    "FP = np.sum(np.logical_and(data_predictionj == 0, data_truthj == 1))\n",
    "FN = np.sum(np.logical_and(data_predictionj == 1, data_truthj == 0))\n",
    "\n",
    "P = TP + FN\n",
    "N = FP + TN"
   ]
  },
  {
   "cell_type": "code",
   "execution_count": 34,
   "metadata": {},
   "outputs": [],
   "source": [
    "accuracy = round((TP + TN) / (P + N), 2)\n",
    "precision = round(TP / (TP + FP), 2)\n",
    "recall = round(TP / (TP+ FN), 2)\n",
    "f1_score = round(2 * ((precision * recall) / (precision + recall)), 2)"
   ]
  },
  {
   "cell_type": "code",
   "execution_count": 35,
   "metadata": {},
   "outputs": [],
   "source": [
    "data_truths = np.asarray(list(map(lambda x:0 if x == \"Sith\" else 1, data_truth)))\n",
    "data_predictions = np.asarray(list(map(lambda x:0 if x == \"Sith\" else 1, data_prediction)))\n",
    "\n",
    "TPs = np.sum(np.logical_and(data_predictions == 0, data_truths == 0))\n",
    "TNs = np.sum(np.logical_and(data_predictions == 1, data_truths == 1))\n",
    "FPs = np.sum(np.logical_and(data_predictions == 0, data_truths == 1))\n",
    "FNs = np.sum(np.logical_and(data_predictions == 1, data_truths == 0))\n",
    "\n",
    "Ps = TPs + FNs\n",
    "Ns = FPs + TNs"
   ]
  },
  {
   "cell_type": "code",
   "execution_count": 36,
   "metadata": {},
   "outputs": [],
   "source": [
    "accuracys = round((TPs + TNs) / (Ps + Ns), 2)\n",
    "precisions = round(TPs / (TPs + FPs), 2)\n",
    "recalls = round(TPs / (TPs+ FNs), 2)\n",
    "f1_scores = round(2 * ((precisions * recalls) / (precisions + recalls)), 2)"
   ]
  },
  {
   "cell_type": "code",
   "execution_count": 37,
   "metadata": {},
   "outputs": [
    {
     "name": "stdout",
     "output_type": "stream",
     "text": [
      "          precision recall    f1-score  total     \n",
      "\n",
      "Jedi      0.45      0.51      0.48      49        \n",
      "Sith      0.47      0.41      0.44      51        \n",
      "\n",
      "accuracy                      0.46      100       \n",
      "\n",
      "[[25 24]\n",
      "[[30 21]]\n"
     ]
    }
   ],
   "source": [
    "print(f\"{'':<10}{'precision':<10}{'recall':<10}{'f1-score':<10}{'total':<10}\")\n",
    "print()\n",
    "print(f\"{'Jedi':<10}{precision:<10.2f}{recall:<10.2f}{f1_score:<10.2f}{P:<10}\")\n",
    "print(f\"{'Sith':<10}{precisions:<10.2f}{recalls:<10.2f}{f1_scores:<10.2f}{Ps:<10}\")\n",
    "print()\n",
    "print(f\"{'accuracy':<30}{accuracy:<10.2f}{P + Ps:<10}\")\n",
    "\n",
    "print()\n",
    "print(f'[[{TP} {FN}]')\n",
    "print(f'[[{FP} {TN}]]')"
   ]
  },
  {
   "cell_type": "code",
   "execution_count": 38,
   "metadata": {},
   "outputs": [
    {
     "data": {
      "image/png": "[encoded data removed]",
      "text/plain": [
       "<Figure size 640x480 with 2 Axes>"
      ]
     },
     "metadata": {},
     "output_type": "display_data"
    }
   ],
   "source": [
    "confu_matrix = np.array([[TP, FN], [FP, TN]])\n",
    "plt.figure()\n",
    "sns.heatmap(confu_matrix, annot=True, fmt='d', cmap='viridis', cbar=True)\n",
    "plt.show()"
   ]
  },
  {
   "cell_type": "code",
   "execution_count": 39,
   "metadata": {},
   "outputs": [],
   "source": [
    "file_pred.close()\n",
    "file_truth.close()"
   ]
  }
 ],
 "metadata": {
  "kernelspec": {
   "display_name": "Python 3",
   "language": "python",
   "name": "python3"
  },
  "language_info": {
   "codemirror_mode": {
    "name": "ipython",
    "version": 3
   },
   "file_extension": ".py",
   "mimetype": "text/x-python",
   "name": "python",
   "nbconvert_exporter": "python",
   "pygments_lexer": "ipython3",
   "version": "3.10.15"
  }
 },
 "nbformat": 4,
 "nbformat_minor": 2
}
