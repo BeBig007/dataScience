{
 "cells": [
  {
   "cell_type": "code",
   "execution_count": 36,
   "metadata": {},
   "outputs": [],
   "source": [
    "from sklearn.preprocessing import LabelEncoder\n",
    "from sklearn.preprocessing import StandardScaler\n",
    "from sklearn.decomposition import PCA\n",
    "import matplotlib.pyplot as plt\n",
    "import pandas as pd\n",
    "import numpy as np\n",
    "\n",
    "%matplotlib inline"
   ]
  },
  {
   "cell_type": "code",
   "execution_count": 37,
   "metadata": {},
   "outputs": [],
   "source": [
    "path = \"../data/Train_knight.csv\"\n",
    "data_train= pd.read_csv(path)"
   ]
  },
  {
   "cell_type": "code",
   "execution_count": 38,
   "metadata": {},
   "outputs": [
    {
     "data": {
      "text/html": [
       "<div>\n",
       "<style scoped>\n",
       "    .dataframe tbody tr th:only-of-type {\n",
       "        vertical-align: middle;\n",
       "    }\n",
       "\n",
       "    .dataframe tbody tr th {\n",
       "        vertical-align: top;\n",
       "    }\n",
       "\n",
       "    .dataframe thead th {\n",
       "        text-align: right;\n",
       "    }\n",
       "</style>\n",
       "<table border=\"1\" class=\"dataframe\">\n",
       "  <thead>\n",
       "    <tr style=\"text-align: right;\">\n",
       "      <th></th>\n",
       "      <th>Sensitivity</th>\n",
       "      <th>Hability</th>\n",
       "      <th>Strength</th>\n",
       "      <th>Power</th>\n",
       "      <th>Agility</th>\n",
       "      <th>Dexterity</th>\n",
       "      <th>Awareness</th>\n",
       "      <th>Prescience</th>\n",
       "      <th>Reactivity</th>\n",
       "      <th>Midi-chlorien</th>\n",
       "      <th>...</th>\n",
       "      <th>Evade</th>\n",
       "      <th>Stims</th>\n",
       "      <th>Sprint</th>\n",
       "      <th>Combo</th>\n",
       "      <th>Delay</th>\n",
       "      <th>Attunement</th>\n",
       "      <th>Empowered</th>\n",
       "      <th>Burst</th>\n",
       "      <th>Grasping</th>\n",
       "      <th>knight</th>\n",
       "    </tr>\n",
       "  </thead>\n",
       "  <tbody>\n",
       "    <tr>\n",
       "      <th>0</th>\n",
       "      <td>11.80</td>\n",
       "      <td>17.26</td>\n",
       "      <td>75.26</td>\n",
       "      <td>431.9</td>\n",
       "      <td>0.09087</td>\n",
       "      <td>0.06232</td>\n",
       "      <td>0.028530</td>\n",
       "      <td>0.016380</td>\n",
       "      <td>0.1847</td>\n",
       "      <td>0.06019</td>\n",
       "      <td>...</td>\n",
       "      <td>24.49</td>\n",
       "      <td>86.00</td>\n",
       "      <td>562.0</td>\n",
       "      <td>0.1244</td>\n",
       "      <td>0.17260</td>\n",
       "      <td>0.14490</td>\n",
       "      <td>0.05356</td>\n",
       "      <td>0.2779</td>\n",
       "      <td>0.08121</td>\n",
       "      <td>1</td>\n",
       "    </tr>\n",
       "    <tr>\n",
       "      <th>1</th>\n",
       "      <td>19.81</td>\n",
       "      <td>22.15</td>\n",
       "      <td>130.00</td>\n",
       "      <td>1260.0</td>\n",
       "      <td>0.09831</td>\n",
       "      <td>0.10270</td>\n",
       "      <td>0.147900</td>\n",
       "      <td>0.094980</td>\n",
       "      <td>0.1582</td>\n",
       "      <td>0.05395</td>\n",
       "      <td>...</td>\n",
       "      <td>30.88</td>\n",
       "      <td>186.80</td>\n",
       "      <td>2398.0</td>\n",
       "      <td>0.1512</td>\n",
       "      <td>0.31500</td>\n",
       "      <td>0.53720</td>\n",
       "      <td>0.23880</td>\n",
       "      <td>0.2768</td>\n",
       "      <td>0.07615</td>\n",
       "      <td>0</td>\n",
       "    </tr>\n",
       "    <tr>\n",
       "      <th>2</th>\n",
       "      <td>10.97</td>\n",
       "      <td>17.20</td>\n",
       "      <td>71.73</td>\n",
       "      <td>371.5</td>\n",
       "      <td>0.08915</td>\n",
       "      <td>0.11130</td>\n",
       "      <td>0.094570</td>\n",
       "      <td>0.036130</td>\n",
       "      <td>0.1489</td>\n",
       "      <td>0.06640</td>\n",
       "      <td>...</td>\n",
       "      <td>26.87</td>\n",
       "      <td>90.14</td>\n",
       "      <td>476.4</td>\n",
       "      <td>0.1391</td>\n",
       "      <td>0.40820</td>\n",
       "      <td>0.47790</td>\n",
       "      <td>0.15550</td>\n",
       "      <td>0.2540</td>\n",
       "      <td>0.09532</td>\n",
       "      <td>1</td>\n",
       "    </tr>\n",
       "    <tr>\n",
       "      <th>3</th>\n",
       "      <td>11.62</td>\n",
       "      <td>18.18</td>\n",
       "      <td>76.38</td>\n",
       "      <td>408.8</td>\n",
       "      <td>0.11750</td>\n",
       "      <td>0.14830</td>\n",
       "      <td>0.102000</td>\n",
       "      <td>0.055640</td>\n",
       "      <td>0.1957</td>\n",
       "      <td>0.07255</td>\n",
       "      <td>...</td>\n",
       "      <td>25.40</td>\n",
       "      <td>88.14</td>\n",
       "      <td>528.1</td>\n",
       "      <td>0.1780</td>\n",
       "      <td>0.28780</td>\n",
       "      <td>0.31860</td>\n",
       "      <td>0.14160</td>\n",
       "      <td>0.2660</td>\n",
       "      <td>0.09270</td>\n",
       "      <td>1</td>\n",
       "    </tr>\n",
       "    <tr>\n",
       "      <th>4</th>\n",
       "      <td>11.26</td>\n",
       "      <td>19.83</td>\n",
       "      <td>71.30</td>\n",
       "      <td>388.1</td>\n",
       "      <td>0.08511</td>\n",
       "      <td>0.04413</td>\n",
       "      <td>0.005067</td>\n",
       "      <td>0.005664</td>\n",
       "      <td>0.1637</td>\n",
       "      <td>0.06343</td>\n",
       "      <td>...</td>\n",
       "      <td>26.43</td>\n",
       "      <td>76.38</td>\n",
       "      <td>435.9</td>\n",
       "      <td>0.1108</td>\n",
       "      <td>0.07723</td>\n",
       "      <td>0.02533</td>\n",
       "      <td>0.02832</td>\n",
       "      <td>0.2557</td>\n",
       "      <td>0.07613</td>\n",
       "      <td>1</td>\n",
       "    </tr>\n",
       "  </tbody>\n",
       "</table>\n",
       "<p>5 rows × 31 columns</p>\n",
       "</div>"
      ],
      "text/plain": [
       "   Sensitivity  Hability  Strength   Power  Agility  Dexterity  Awareness  \\\n",
       "0        11.80     17.26     75.26   431.9  0.09087    0.06232   0.028530   \n",
       "1        19.81     22.15    130.00  1260.0  0.09831    0.10270   0.147900   \n",
       "2        10.97     17.20     71.73   371.5  0.08915    0.11130   0.094570   \n",
       "3        11.62     18.18     76.38   408.8  0.11750    0.14830   0.102000   \n",
       "4        11.26     19.83     71.30   388.1  0.08511    0.04413   0.005067   \n",
       "\n",
       "   Prescience  Reactivity  Midi-chlorien  ...  Evade   Stims  Sprint   Combo  \\\n",
       "0    0.016380      0.1847        0.06019  ...  24.49   86.00   562.0  0.1244   \n",
       "1    0.094980      0.1582        0.05395  ...  30.88  186.80  2398.0  0.1512   \n",
       "2    0.036130      0.1489        0.06640  ...  26.87   90.14   476.4  0.1391   \n",
       "3    0.055640      0.1957        0.07255  ...  25.40   88.14   528.1  0.1780   \n",
       "4    0.005664      0.1637        0.06343  ...  26.43   76.38   435.9  0.1108   \n",
       "\n",
       "     Delay  Attunement  Empowered   Burst  Grasping  knight  \n",
       "0  0.17260     0.14490    0.05356  0.2779   0.08121       1  \n",
       "1  0.31500     0.53720    0.23880  0.2768   0.07615       0  \n",
       "2  0.40820     0.47790    0.15550  0.2540   0.09532       1  \n",
       "3  0.28780     0.31860    0.14160  0.2660   0.09270       1  \n",
       "4  0.07723     0.02533    0.02832  0.2557   0.07613       1  \n",
       "\n",
       "[5 rows x 31 columns]"
      ]
     },
     "execution_count": 38,
     "metadata": {},
     "output_type": "execute_result"
    }
   ],
   "source": [
    "encoder = LabelEncoder()\n",
    "labels = encoder.fit_transform(data_train['knight'])\n",
    "\n",
    "data_train['knight'] = labels\n",
    "data_train.head()"
   ]
  },
  {
   "cell_type": "code",
   "execution_count": 39,
   "metadata": {},
   "outputs": [],
   "source": [
    "scaler = StandardScaler()\n",
    "df_std = scaler.fit_transform(data_train)\n",
    "df_std = pd.DataFrame(df_std, columns = data_train.columns)"
   ]
  },
  {
   "cell_type": "code",
   "execution_count": 40,
   "metadata": {},
   "outputs": [
    {
     "name": "stdout",
     "output_type": "stream",
     "text": [
      "Variances (Percentage):\n",
      "[4.48917596e+01 1.77912636e+01 9.67060568e+00 6.26842269e+00\n",
      " 5.37204836e+00 3.73955136e+00 2.37591979e+00 1.82012117e+00\n",
      " 1.38767075e+00 1.10970484e+00 1.02059677e+00 9.21235938e-01\n",
      " 8.52230799e-01 7.13562872e-01 4.13084765e-01 3.04511906e-01\n",
      " 2.71586688e-01 2.15161303e-01 1.85399684e-01 1.48042429e-01\n",
      " 1.08631716e-01 1.04241449e-01 8.00248252e-02 7.60452896e-02\n",
      " 5.50959514e-02 4.97445867e-02 2.57925354e-02 1.98906888e-02\n",
      " 5.51592381e-03 2.16800508e-03 3.68038524e-04]\n",
      "\n",
      "Cumulative Variances (Percentage):\n",
      "[ 44.89175956  62.68302319  72.35362887  78.62205156  83.99409992\n",
      "  87.73365129  90.10957108  91.92969224  93.317363    94.42706783\n",
      "  95.44766461  96.36890054  97.22113134  97.93469422  98.34777898\n",
      "  98.65229089  98.92387757  99.13903888  99.32443856  99.47248099\n",
      "  99.58111271  99.68535416  99.76537898  99.84142427  99.89652022\n",
      "  99.94626481  99.97205734  99.99194803  99.99746396  99.99963196\n",
      " 100.        ]\n"
     ]
    }
   ],
   "source": [
    "pca = PCA()\n",
    "pca.fit(df_std)\n",
    "pca.explained_variance_ratio_\n",
    "\n",
    "print(\"Variances (Percentage):\")\n",
    "print(pca.explained_variance_ratio_ * 100)\n",
    "print()\n",
    "print(\"Cumulative Variances (Percentage):\")\n",
    "print(pca.explained_variance_ratio_.cumsum() * 100)"
   ]
  },
  {
   "cell_type": "code",
   "execution_count": 43,
   "metadata": {},
   "outputs": [
    {
     "name": "stdout",
     "output_type": "stream",
     "text": [
      "7\n"
     ]
    }
   ],
   "source": [
    "num_components_90 = np.argmax((pca.explained_variance_ratio_.cumsum() * 100) >= 90) + 1\n",
    "print(num_components_90)"
   ]
  },
  {
   "cell_type": "code",
   "execution_count": 42,
   "metadata": {},
   "outputs": [
    {
     "data": {
      "text/plain": [
       "Text(0, 0.5, 'Explained Variance (%)')"
      ]
     },
     "execution_count": 42,
     "metadata": {},
     "output_type": "execute_result"
    },
    {
     "data": {
      "image/png": "[encoded data removed]",
      "text/plain": [
       "<Figure size 1200x900 with 1 Axes>"
      ]
     },
     "metadata": {},
     "output_type": "display_data"
    }
   ],
   "source": [
    "plt.figure(figsize = (12,9))\n",
    "plt.plot(range(1, pca.explained_variance_ratio_.shape[0] + 1), pca.explained_variance_ratio_.cumsum() * 100)\n",
    "plt.axhline(y = 90, color='green', linestyle='--')\n",
    "# plt.axvline(x = num_components_90, color='red')\n",
    "plt.xlabel('Number of Components')\n",
    "plt.ylabel('Explained Variance (%)')"
   ]
  }
 ],
 "metadata": {
  "kernelspec": {
   "display_name": "Python 3",
   "language": "python",
   "name": "python3"
  },
  "language_info": {
   "codemirror_mode": {
    "name": "ipython",
    "version": 3
   },
   "file_extension": ".py",
   "mimetype": "text/x-python",
   "name": "python",
   "nbconvert_exporter": "python",
   "pygments_lexer": "ipython3",
   "version": "3.10.15"
  }
 },
 "nbformat": 4,
 "nbformat_minor": 2
}
