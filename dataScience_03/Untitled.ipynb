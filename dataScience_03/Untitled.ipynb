{
 "cells": [
  {
   "cell_type": "code",
   "execution_count": 1,
   "id": "680264ef-9915-4eb1-b680-dc9565d49a9e",
   "metadata": {},
   "outputs": [
    {
     "name": "stdout",
     "output_type": "stream",
     "text": [
      "Hello world\n"
     ]
    }
   ],
   "source": [
    "print(\"Hello world\")"
   ]
  },
  {
   "cell_type": "code",
   "execution_count": 3,
   "id": "dc4e8881-69c9-401e-b4ad-1df1b9426914",
   "metadata": {},
   "outputs": [
    {
     "name": "stdout",
     "output_type": "stream",
     "text": [
      "27 5\n"
     ]
    }
   ],
   "source": [
    "x = 10\n",
    "x += 12\n",
    "y = int(x/4)\n",
    "x = x + y\n",
    "print(x, y)"
   ]
  },
  {
   "cell_type": "code",
   "execution_count": 11,
   "id": "0029edde-08f9-4b08-a8ad-db0e2f332d35",
   "metadata": {},
   "outputs": [
    {
     "data": {
      "text/plain": [
       "'This is a test'"
      ]
     },
     "execution_count": 11,
     "metadata": {},
     "output_type": "execute_result"
    }
   ],
   "source": [
    "a = \"This is A TEST\"\n",
    "a.capitalize()\n",
    "\n"
   ]
  },
  {
   "cell_type": "code",
   "execution_count": 12,
   "id": "48ed82e2-3a88-463c-889f-88b73097fe42",
   "metadata": {},
   "outputs": [
    {
     "name": "stdout",
     "output_type": "stream",
     "text": [
      "1 0 16 1\n"
     ]
    }
   ],
   "source": [
    "a = 4\n",
    "\n",
    "def polynome(a, b, c, x) : \n",
    "    return a*x**2 + b*x + c\n",
    "\n",
    "\n",
    "b=a\n",
    "b*=a\n",
    "c=1\n",
    "\n",
    "resultat = polynome(a, b, c, 0)\n",
    "\n",
    "a+=3\n",
    "a = 0 \n",
    "\n",
    "print(resultat, a, b, c)"
   ]
  },
  {
   "cell_type": "code",
   "execution_count": null,
   "id": "519dd49a-ef74-4eea-83e9-c1fc342e10f2",
   "metadata": {},
   "outputs": [],
   "source": []
  },
  {
   "cell_type": "code",
   "execution_count": null,
   "id": "abe8737c-d2a3-4129-b58a-223d9dd45566",
   "metadata": {},
   "outputs": [],
   "source": []
  }
 ],
 "metadata": {
  "kernelspec": {
   "display_name": "Python 3 (ipykernel)",
   "language": "python",
   "name": "python3"
  },
  "language_info": {
   "codemirror_mode": {
    "name": "ipython",
    "version": 3
   },
   "file_extension": ".py",
   "mimetype": "text/x-python",
   "name": "python",
   "nbconvert_exporter": "python",
   "pygments_lexer": "ipython3",
   "version": "3.10.15"
  }
 },
 "nbformat": 4,
 "nbformat_minor": 5
}
